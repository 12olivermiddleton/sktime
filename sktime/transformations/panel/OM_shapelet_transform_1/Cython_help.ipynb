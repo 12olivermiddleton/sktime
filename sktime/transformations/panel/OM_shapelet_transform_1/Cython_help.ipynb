{
 "cells": [
  {
   "cell_type": "markdown",
   "metadata": {
    "collapsed": true,
    "pycharm": {
     "name": "#%% md\n"
    }
   },
   "source": [
    "# Compiling Cython in pycharm"
   ]
  },
  {
   "cell_type": "markdown",
   "source": [
    "There are various different ways to compile cython code into an extension, however in pycharm many methods have a variable success. Whilst it may compile an extension in one IDE, in pycharm the module may not be found. There are limited resources online to aid with this process, so here is a complete guide to compiling a cython file into an extension."
   ],
   "metadata": {
    "collapsed": false,
    "pycharm": {
     "name": "#%% md\n"
    }
   }
  },
  {
   "cell_type": "markdown",
   "source": [
    "## 1. You will need 2 files, a .pyx file containing cython code, and a setup.py file. The setup.py file should contain as follows..."
   ],
   "metadata": {
    "collapsed": false,
    "pycharm": {
     "name": "#%% md\n"
    }
   }
  },
  {
   "cell_type": "markdown",
   "source": [
    "## setup.py"
   ],
   "metadata": {
    "collapsed": false,
    "pycharm": {
     "name": "#%% md\n"
    }
   }
  },
  {
   "cell_type": "code",
   "execution_count": null,
   "outputs": [],
   "source": [
    "from setuptools import setup, Extension\n",
    "\n",
    "# root_directory_path should be the absolute path to the root directory for the project\n",
    "# my_cython_file should be the name you wish to call the extension\n",
    "module = Extension('my_cython_file', sources=['root_directory_path/my_cython_file.pyx'])\n",
    "\n",
    "# the setup contains 4 parameters\n",
    "# the key point in the setup is the name parameter. This should be the interpreter name or environment\n",
    "setup(\n",
    "    name='sktime',\n",
    "    version='1.0',\n",
    "    author='Oliver',\n",
    "    ext_modules=[module]\n",
    ")"
   ],
   "metadata": {
    "collapsed": false,
    "pycharm": {
     "name": "#%%\n"
    }
   }
  },
  {
   "cell_type": "markdown",
   "source": [
    "## Step 2. To compile the cython file into an extension we need to be in the setup.py file. From here in pycharm we select tools, then click on \"Run setup.py Task...\""
   ],
   "metadata": {
    "collapsed": false,
    "pycharm": {
     "name": "#%% md\n"
    }
   }
  },
  {
   "cell_type": "markdown",
   "source": [
    "## This will bring up a window prompting to enter setup.py task name. For this we need to type in the command: build_ext and then hit enter"
   ],
   "metadata": {
    "collapsed": false,
    "pycharm": {
     "name": "#%% md\n"
    }
   }
  },
  {
   "cell_type": "markdown",
   "source": [
    "## This will then bring up another pop up, in which we need to type: --inplace and hit enter"
   ],
   "metadata": {
    "collapsed": false,
    "pycharm": {
     "name": "#%% md\n"
    }
   }
  },
  {
   "cell_type": "markdown",
   "source": [
    "## To use our extension we need to do the following in the .py file we wish to use the extension....\n"
   ],
   "metadata": {
    "collapsed": false,
    "pycharm": {
     "name": "#%% md\n"
    }
   }
  },
  {
   "cell_type": "code",
   "execution_count": null,
   "outputs": [],
   "source": [
    "from pyximport import install ; install()\n",
    "\n",
    "from file import ...\n",
    "# replace file with your filename and .... with the function or class you wish to import from the cython extension"
   ],
   "metadata": {
    "collapsed": false,
    "pycharm": {
     "name": "#%%\n"
    }
   }
  },
  {
   "cell_type": "markdown",
   "source": [
    "## You can now use your extension however you wish."
   ],
   "metadata": {
    "collapsed": false,
    "pycharm": {
     "name": "#%% md\n"
    }
   }
  },
  {
   "cell_type": "code",
   "execution_count": null,
   "outputs": [],
   "source": [],
   "metadata": {
    "collapsed": false,
    "pycharm": {
     "name": "#%%\n"
    }
   }
  }
 ],
 "metadata": {
  "kernelspec": {
   "display_name": "Python 3",
   "language": "python",
   "name": "python3"
  },
  "language_info": {
   "codemirror_mode": {
    "name": "ipython",
    "version": 2
   },
   "file_extension": ".py",
   "mimetype": "text/x-python",
   "name": "python",
   "nbconvert_exporter": "python",
   "pygments_lexer": "ipython2",
   "version": "2.7.6"
  }
 },
 "nbformat": 4,
 "nbformat_minor": 0
}